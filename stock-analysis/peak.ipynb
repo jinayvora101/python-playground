{
 "cells": [
  {
   "cell_type": "code",
   "execution_count": null,
   "metadata": {},
   "outputs": [],
   "source": [
    "import numpy as np\n",
    "import pandas as pd\n",
    "\n",
    "from tqdm import tqdm\n",
    "\n",
    "import matplotlib.pyplot as plt\n",
    "import seaborn as sns\n",
    "\n",
    "plt.style.use('dark_background')"
   ]
  },
  {
   "cell_type": "code",
   "execution_count": null,
   "metadata": {},
   "outputs": [],
   "source": [
    "df = pd.read_csv(r\"//home/poggerez/codebase/python/stock-analysis/sensex-01041979-31122023d.csv\").drop(\"Unnamed: 5\", axis=1) \\\n",
    "        .assign(Date = lambda k: pd.to_datetime(k.Date).dt.strftime(\"%Y-%m-%d\")).rename_axis(\"data-point\") \\\n",
    "        .set_axis([\"date\", \"open\", \"high\", \"low\", \"close\"], axis=1)"
   ]
  },
  {
   "cell_type": "code",
   "execution_count": null,
   "metadata": {},
   "outputs": [],
   "source": [
    "def find_extrema(\n",
    "    x: pd.Series,\n",
    "    window: int = 21,\n",
    "    pct_change: float = 0.05,\n",
    ") -> pd.DataFrame:\n",
    "    \"\"\"\n",
    "    Returns a dataframe of peaks and troughs, with columns \"extrema\" and \"price\".\\n\n",
    "    Column `extrema` may have values +/- 1 to indicate peak and troughs.\\n\n",
    "    Column `price` contains the input parameter `x`\n",
    "\n",
    "    Args:\n",
    "        x (pd.Series): time series data of a stock price.\n",
    "        window (int, optional): centered window to consider to estimate local extrema. Defaults to 15.\n",
    "\n",
    "    Returns:\n",
    "        _type_: pd.DataFrame\n",
    "    \"\"\"\n",
    "\n",
    "    y = x.rolling(window, center=True, closed=\"both\", min_periods=1) \\\n",
    "         .agg([\"max\", \"min\"]).eq(x, axis=0).astype(int) \\\n",
    "         .assign(extrema = lambda k: k[\"max\"] - k[\"min\"]) \\\n",
    "         .assign(price = x) \\\n",
    "         .query(\"extrema != 0\")[[\"extrema\", \"price\"]]\n",
    "\n",
    "    # removing cases where there are consecutive peaks and troughs\n",
    "    idx = 0\n",
    "    while idx < y.shape[0]-1:\n",
    "\n",
    "        # if not consecutive, continue with the loop\n",
    "        if y.iloc[idx, 0] != y.iloc[idx+1, 0]:\n",
    "            idx += 1\n",
    "\n",
    "        else:\n",
    "            # if consecutive peaks, drop the lower peak\n",
    "            if y.iloc[idx, 0] == 1:\n",
    "                if y.iloc[idx, 1] < y.iloc[idx+1, 1]:\n",
    "                    y.drop(index=y.iloc[idx].name, inplace=True)\n",
    "                else: y.drop(index=y.iloc[idx+1].name, inplace=True)\n",
    "\n",
    "            # if consecutive troughs, discard the higher trough\n",
    "            elif y.iloc[idx, 0] == -1:\n",
    "                if y.iloc[idx, 1] > y.iloc[idx+1, 1]:\n",
    "                    y.drop(index=y.iloc[idx].name, inplace=True)\n",
    "                else: y.drop(index=y.iloc[idx+1].name, inplace=True)\n",
    "\n",
    "    # setting min price diff of `pct_change` to consider the following extrema\n",
    "    y[\"pct_change\"] = y[\"price\"].diff(-1).divide(y[\"price\"]).round(6).abs()\n",
    "    \n",
    "    while y[\"pct_change\"].min() < pct_change:\n",
    "\n",
    "        idx = 0\n",
    "\n",
    "        while idx < y.shape[0]-1:\n",
    "\n",
    "            if y.iloc[idx, 2] < pct_change:\n",
    "                y.drop(index=y.iloc[[idx, idx+1]].index, inplace=True)\n",
    "\n",
    "            else: idx += 1\n",
    "\n",
    "        y[\"pct_change\"] = y[\"price\"].diff(-1).divide(y[\"price\"]).round(6).abs()\n",
    "\n",
    "    return y\n",
    "\n",
    "find_extrema(df[\"close\"])"
   ]
  },
  {
   "cell_type": "code",
   "execution_count": null,
   "metadata": {},
   "outputs": [],
   "source": [
    "\"\"\" Note we can have two consecutive troughs or peaks \"\"\"\n",
    "\n",
    "df_plot = df.query(\"date.str.startswith(@year_plot)\")\n",
    "df_extreme = df_plot.query(\"peak_local == True | trough_local == True\")\n",
    "\n",
    "plt.plot(df_plot[\"date\"], df_plot[\"close\"], color=\"#008686\")\n",
    "plt.plot(df_extreme[\"date\"], df_extreme[\"close\"], color=\"#860086\")\n",
    "\n",
    "plt.show()"
   ]
  }
 ],
 "metadata": {
  "kernelspec": {
   "display_name": ".venv",
   "language": "python",
   "name": "python3"
  },
  "language_info": {
   "codemirror_mode": {
    "name": "ipython",
    "version": 3
   },
   "file_extension": ".py",
   "mimetype": "text/x-python",
   "name": "python",
   "nbconvert_exporter": "python",
   "pygments_lexer": "ipython3",
   "version": "3.10.12"
  }
 },
 "nbformat": 4,
 "nbformat_minor": 2
}
